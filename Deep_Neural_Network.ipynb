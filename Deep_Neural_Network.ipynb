{
 "cells": [
  {
   "cell_type": "markdown",
   "metadata": {},
   "source": [
    "# Deep Neural Network Classification"
   ]
  },
  {
   "cell_type": "markdown",
   "metadata": {},
   "source": [
    "### Importing the libraries"
   ]
  },
  {
   "cell_type": "code",
   "execution_count": 1,
   "metadata": {
    "collapsed": true
   },
   "outputs": [],
   "source": [
    "import numpy as np\n",
    "import matplotlib.pyplot as plt\n",
    "import pandas as pd"
   ]
  },
  {
   "cell_type": "markdown",
   "metadata": {},
   "source": [
    "### Importing the dataset"
   ]
  },
  {
   "cell_type": "code",
   "execution_count": 3,
   "metadata": {
    "collapsed": true
   },
   "outputs": [],
   "source": [
    "dataset = pd.read_csv('Churn_Modelling.csv')"
   ]
  },
  {
   "cell_type": "code",
   "execution_count": 4,
   "metadata": {},
   "outputs": [
    {
     "data": {
      "text/html": [
       "<div>\n",
       "<style scoped>\n",
       "    .dataframe tbody tr th:only-of-type {\n",
       "        vertical-align: middle;\n",
       "    }\n",
       "\n",
       "    .dataframe tbody tr th {\n",
       "        vertical-align: top;\n",
       "    }\n",
       "\n",
       "    .dataframe thead th {\n",
       "        text-align: right;\n",
       "    }\n",
       "</style>\n",
       "<table border=\"1\" class=\"dataframe\">\n",
       "  <thead>\n",
       "    <tr style=\"text-align: right;\">\n",
       "      <th></th>\n",
       "      <th>RowNumber</th>\n",
       "      <th>CustomerId</th>\n",
       "      <th>Surname</th>\n",
       "      <th>CreditScore</th>\n",
       "      <th>Geography</th>\n",
       "      <th>Gender</th>\n",
       "      <th>Age</th>\n",
       "      <th>Tenure</th>\n",
       "      <th>Balance</th>\n",
       "      <th>NumOfProducts</th>\n",
       "      <th>HasCrCard</th>\n",
       "      <th>IsActiveMember</th>\n",
       "      <th>EstimatedSalary</th>\n",
       "      <th>Exited</th>\n",
       "    </tr>\n",
       "  </thead>\n",
       "  <tbody>\n",
       "    <tr>\n",
       "      <th>0</th>\n",
       "      <td>1</td>\n",
       "      <td>15634602</td>\n",
       "      <td>Hargrave</td>\n",
       "      <td>619</td>\n",
       "      <td>France</td>\n",
       "      <td>Female</td>\n",
       "      <td>42</td>\n",
       "      <td>2</td>\n",
       "      <td>0.00</td>\n",
       "      <td>1</td>\n",
       "      <td>1</td>\n",
       "      <td>1</td>\n",
       "      <td>101348.88</td>\n",
       "      <td>1</td>\n",
       "    </tr>\n",
       "    <tr>\n",
       "      <th>1</th>\n",
       "      <td>2</td>\n",
       "      <td>15647311</td>\n",
       "      <td>Hill</td>\n",
       "      <td>608</td>\n",
       "      <td>Spain</td>\n",
       "      <td>Female</td>\n",
       "      <td>41</td>\n",
       "      <td>1</td>\n",
       "      <td>83807.86</td>\n",
       "      <td>1</td>\n",
       "      <td>0</td>\n",
       "      <td>1</td>\n",
       "      <td>112542.58</td>\n",
       "      <td>0</td>\n",
       "    </tr>\n",
       "    <tr>\n",
       "      <th>2</th>\n",
       "      <td>3</td>\n",
       "      <td>15619304</td>\n",
       "      <td>Onio</td>\n",
       "      <td>502</td>\n",
       "      <td>France</td>\n",
       "      <td>Female</td>\n",
       "      <td>42</td>\n",
       "      <td>8</td>\n",
       "      <td>159660.80</td>\n",
       "      <td>3</td>\n",
       "      <td>1</td>\n",
       "      <td>0</td>\n",
       "      <td>113931.57</td>\n",
       "      <td>1</td>\n",
       "    </tr>\n",
       "    <tr>\n",
       "      <th>3</th>\n",
       "      <td>4</td>\n",
       "      <td>15701354</td>\n",
       "      <td>Boni</td>\n",
       "      <td>699</td>\n",
       "      <td>France</td>\n",
       "      <td>Female</td>\n",
       "      <td>39</td>\n",
       "      <td>1</td>\n",
       "      <td>0.00</td>\n",
       "      <td>2</td>\n",
       "      <td>0</td>\n",
       "      <td>0</td>\n",
       "      <td>93826.63</td>\n",
       "      <td>0</td>\n",
       "    </tr>\n",
       "    <tr>\n",
       "      <th>4</th>\n",
       "      <td>5</td>\n",
       "      <td>15737888</td>\n",
       "      <td>Mitchell</td>\n",
       "      <td>850</td>\n",
       "      <td>Spain</td>\n",
       "      <td>Female</td>\n",
       "      <td>43</td>\n",
       "      <td>2</td>\n",
       "      <td>125510.82</td>\n",
       "      <td>1</td>\n",
       "      <td>1</td>\n",
       "      <td>1</td>\n",
       "      <td>79084.10</td>\n",
       "      <td>0</td>\n",
       "    </tr>\n",
       "  </tbody>\n",
       "</table>\n",
       "</div>"
      ],
      "text/plain": [
       "   RowNumber  CustomerId   Surname  CreditScore Geography  Gender  Age  \\\n",
       "0          1    15634602  Hargrave          619    France  Female   42   \n",
       "1          2    15647311      Hill          608     Spain  Female   41   \n",
       "2          3    15619304      Onio          502    France  Female   42   \n",
       "3          4    15701354      Boni          699    France  Female   39   \n",
       "4          5    15737888  Mitchell          850     Spain  Female   43   \n",
       "\n",
       "   Tenure    Balance  NumOfProducts  HasCrCard  IsActiveMember  \\\n",
       "0       2       0.00              1          1               1   \n",
       "1       1   83807.86              1          0               1   \n",
       "2       8  159660.80              3          1               0   \n",
       "3       1       0.00              2          0               0   \n",
       "4       2  125510.82              1          1               1   \n",
       "\n",
       "   EstimatedSalary  Exited  \n",
       "0        101348.88       1  \n",
       "1        112542.58       0  \n",
       "2        113931.57       1  \n",
       "3         93826.63       0  \n",
       "4         79084.10       0  "
      ]
     },
     "execution_count": 4,
     "metadata": {},
     "output_type": "execute_result"
    }
   ],
   "source": [
    "dataset.head()"
   ]
  },
  {
   "cell_type": "code",
   "execution_count": 5,
   "metadata": {
    "collapsed": true
   },
   "outputs": [],
   "source": [
    "X = dataset.iloc[:, 3:13].values\n",
    "y = dataset.iloc[:, 13].values"
   ]
  },
  {
   "cell_type": "markdown",
   "metadata": {},
   "source": [
    "## Part-1: Data preprocessing"
   ]
  },
  {
   "cell_type": "markdown",
   "metadata": {},
   "source": [
    "### Encoding categorical data"
   ]
  },
  {
   "cell_type": "code",
   "execution_count": 6,
   "metadata": {
    "collapsed": true
   },
   "outputs": [],
   "source": [
    "from sklearn.preprocessing import LabelEncoder, OneHotEncoder"
   ]
  },
  {
   "cell_type": "code",
   "execution_count": 7,
   "metadata": {
    "collapsed": true
   },
   "outputs": [],
   "source": [
    "labelencoder_X_1 = LabelEncoder()\n",
    "X[:, 1] = labelencoder_X_1.fit_transform(X[:, 1])\n",
    "labelencoder_X_2 = LabelEncoder()\n",
    "X[:, 2] = labelencoder_X_2.fit_transform(X[:, 2])\n",
    "onehotencoder = OneHotEncoder(categorical_features=[1])\n",
    "X = onehotencoder.fit_transform(X).toarray()\n",
    "X = X[:, 1:]"
   ]
  },
  {
   "cell_type": "markdown",
   "metadata": {},
   "source": [
    "### Splitting the dataset into the Training set and Test set"
   ]
  },
  {
   "cell_type": "code",
   "execution_count": 10,
   "metadata": {},
   "outputs": [],
   "source": [
    "from sklearn.model_selection import train_test_split"
   ]
  },
  {
   "cell_type": "code",
   "execution_count": 11,
   "metadata": {
    "collapsed": true
   },
   "outputs": [],
   "source": [
    "X_train, X_test, y_train, y_test = train_test_split(X, y, test_size=0.2, random_state=0)"
   ]
  },
  {
   "cell_type": "markdown",
   "metadata": {},
   "source": [
    "### Feature Scaling"
   ]
  },
  {
   "cell_type": "code",
   "execution_count": 12,
   "metadata": {
    "collapsed": true
   },
   "outputs": [],
   "source": [
    "from sklearn.preprocessing import StandardScaler"
   ]
  },
  {
   "cell_type": "code",
   "execution_count": 13,
   "metadata": {
    "collapsed": true
   },
   "outputs": [],
   "source": [
    "sc_X = StandardScaler()\n",
    "X_train = sc_X.fit_transform(X_train)\n",
    "X_test = sc_X.transform(X_test)"
   ]
  },
  {
   "cell_type": "markdown",
   "metadata": {},
   "source": [
    "## Part-2: Building the Deep Neural Network "
   ]
  },
  {
   "cell_type": "markdown",
   "metadata": {},
   "source": [
    "### Import keras library and packages"
   ]
  },
  {
   "cell_type": "code",
   "execution_count": 14,
   "metadata": {},
   "outputs": [
    {
     "name": "stderr",
     "output_type": "stream",
     "text": [
      "Using TensorFlow backend.\n"
     ]
    }
   ],
   "source": [
    "import keras\n",
    "from keras.models import Sequential\n",
    "from keras.layers import Dense"
   ]
  },
  {
   "cell_type": "markdown",
   "metadata": {},
   "source": [
    "### Initializing the Neural Network"
   ]
  },
  {
   "cell_type": "code",
   "execution_count": 16,
   "metadata": {
    "collapsed": true
   },
   "outputs": [],
   "source": [
    "classifier = Sequential()"
   ]
  },
  {
   "cell_type": "markdown",
   "metadata": {},
   "source": [
    "### Adding the input layer, hidden layers and output layer."
   ]
  },
  {
   "cell_type": "code",
   "execution_count": 17,
   "metadata": {
    "collapsed": true
   },
   "outputs": [],
   "source": [
    "layer_info = Dense(activation='relu', input_dim=11, kernel_initializer='uniform', units=6)\n",
    "classifier.add(layer_info)\n",
    "\n",
    "layer_info = Dense(activation='relu', kernel_initializer='uniform', units=6)\n",
    "classifier.add(layer_info)\n",
    "\n",
    "layer_info = Dense(activation='sigmoid', kernel_initializer='uniform', units=1)\n",
    "classifier.add(layer_info)"
   ]
  },
  {
   "cell_type": "markdown",
   "metadata": {},
   "source": [
    "### Compiling"
   ]
  },
  {
   "cell_type": "code",
   "execution_count": 19,
   "metadata": {},
   "outputs": [
    {
     "name": "stdout",
     "output_type": "stream",
     "text": [
      "WARNING:tensorflow:From /Users/chaitanyapotnis/anaconda/lib/python3.6/site-packages/keras/backend/tensorflow_backend.py:1123: calling reduce_mean (from tensorflow.python.ops.math_ops) with keep_dims is deprecated and will be removed in a future version.\n",
      "Instructions for updating:\n",
      "keep_dims is deprecated, use keepdims instead\n"
     ]
    }
   ],
   "source": [
    "classifier.compile(optimizer='adam', loss='binary_crossentropy', metrics=['accuracy'])"
   ]
  },
  {
   "cell_type": "markdown",
   "metadata": {},
   "source": [
    "### Fitting to the training set"
   ]
  },
  {
   "cell_type": "code",
   "execution_count": 20,
   "metadata": {},
   "outputs": [
    {
     "name": "stderr",
     "output_type": "stream",
     "text": [
      "/Users/chaitanyapotnis/anaconda/lib/python3.6/site-packages/keras/models.py:826: UserWarning: The `nb_epoch` argument in `fit` has been renamed `epochs`.\n",
      "  warnings.warn('The `nb_epoch` argument in `fit` '\n"
     ]
    },
    {
     "name": "stdout",
     "output_type": "stream",
     "text": [
      "Epoch 1/100\n",
      "8000/8000 [==============================] - 2s - loss: 0.4814 - acc: 0.7951     \n",
      "Epoch 2/100\n",
      "8000/8000 [==============================] - 1s - loss: 0.4282 - acc: 0.7960     \n",
      "Epoch 3/100\n",
      "8000/8000 [==============================] - 2s - loss: 0.4227 - acc: 0.7966     \n",
      "Epoch 4/100\n",
      "8000/8000 [==============================] - 2s - loss: 0.4186 - acc: 0.8202     \n",
      "Epoch 5/100\n",
      "8000/8000 [==============================] - 2s - loss: 0.4163 - acc: 0.8266     \n",
      "Epoch 6/100\n",
      "8000/8000 [==============================] - 2s - loss: 0.4146 - acc: 0.8300     \n",
      "Epoch 7/100\n",
      "8000/8000 [==============================] - 1s - loss: 0.4124 - acc: 0.8320     \n",
      "Epoch 8/100\n",
      "8000/8000 [==============================] - 2s - loss: 0.4119 - acc: 0.8322     \n",
      "Epoch 9/100\n",
      "8000/8000 [==============================] - 2s - loss: 0.4107 - acc: 0.8344     \n",
      "Epoch 10/100\n",
      "8000/8000 [==============================] - 2s - loss: 0.4097 - acc: 0.8321     \n",
      "Epoch 11/100\n",
      "8000/8000 [==============================] - 2s - loss: 0.4096 - acc: 0.8332     \n",
      "Epoch 12/100\n",
      "8000/8000 [==============================] - 2s - loss: 0.4087 - acc: 0.8360     \n",
      "Epoch 13/100\n",
      "8000/8000 [==============================] - 2s - loss: 0.4076 - acc: 0.8342     \n",
      "Epoch 14/100\n",
      "8000/8000 [==============================] - 1s - loss: 0.4074 - acc: 0.8339     \n",
      "Epoch 15/100\n",
      "8000/8000 [==============================] - 2s - loss: 0.4068 - acc: 0.8344     \n",
      "Epoch 16/100\n",
      "8000/8000 [==============================] - 2s - loss: 0.4060 - acc: 0.8339     \n",
      "Epoch 17/100\n",
      "8000/8000 [==============================] - 2s - loss: 0.4062 - acc: 0.8350     \n",
      "Epoch 18/100\n",
      "8000/8000 [==============================] - 2s - loss: 0.4054 - acc: 0.8334     \n",
      "Epoch 19/100\n",
      "8000/8000 [==============================] - 2s - loss: 0.4056 - acc: 0.8345     \n",
      "Epoch 20/100\n",
      "8000/8000 [==============================] - 2s - loss: 0.4049 - acc: 0.8349     \n",
      "Epoch 21/100\n",
      "8000/8000 [==============================] - 2s - loss: 0.4047 - acc: 0.8350     \n",
      "Epoch 22/100\n",
      "8000/8000 [==============================] - 2s - loss: 0.4047 - acc: 0.8349     \n",
      "Epoch 23/100\n",
      "8000/8000 [==============================] - 2s - loss: 0.4044 - acc: 0.8342     \n",
      "Epoch 24/100\n",
      "8000/8000 [==============================] - 2s - loss: 0.4042 - acc: 0.8345     \n",
      "Epoch 25/100\n",
      "8000/8000 [==============================] - 2s - loss: 0.4036 - acc: 0.8336     \n",
      "Epoch 26/100\n",
      "8000/8000 [==============================] - 2s - loss: 0.4039 - acc: 0.8347     \n",
      "Epoch 27/100\n",
      "8000/8000 [==============================] - 2s - loss: 0.4033 - acc: 0.8366     \n",
      "Epoch 28/100\n",
      "8000/8000 [==============================] - 2s - loss: 0.4033 - acc: 0.8336     \n",
      "Epoch 29/100\n",
      "8000/8000 [==============================] - 2s - loss: 0.4032 - acc: 0.8355     \n",
      "Epoch 30/100\n",
      "8000/8000 [==============================] - 2s - loss: 0.4031 - acc: 0.8349     \n",
      "Epoch 31/100\n",
      "8000/8000 [==============================] - 2s - loss: 0.4025 - acc: 0.8351     \n",
      "Epoch 32/100\n",
      "8000/8000 [==============================] - 2s - loss: 0.4018 - acc: 0.8359     \n",
      "Epoch 33/100\n",
      "8000/8000 [==============================] - 2s - loss: 0.4013 - acc: 0.8350     \n",
      "Epoch 34/100\n",
      "8000/8000 [==============================] - 1s - loss: 0.4008 - acc: 0.8352     \n",
      "Epoch 35/100\n",
      "8000/8000 [==============================] - 2s - loss: 0.4001 - acc: 0.8360     \n",
      "Epoch 36/100\n",
      "8000/8000 [==============================] - 2s - loss: 0.3997 - acc: 0.8344     \n",
      "Epoch 37/100\n",
      "8000/8000 [==============================] - 1s - loss: 0.3991 - acc: 0.8347     \n",
      "Epoch 38/100\n",
      "8000/8000 [==============================] - 2s - loss: 0.3985 - acc: 0.8349     \n",
      "Epoch 39/100\n",
      "8000/8000 [==============================] - 1s - loss: 0.3984 - acc: 0.8350     \n",
      "Epoch 40/100\n",
      "8000/8000 [==============================] - 1s - loss: 0.3979 - acc: 0.8349     \n",
      "Epoch 41/100\n",
      "8000/8000 [==============================] - 1s - loss: 0.3977 - acc: 0.8337     \n",
      "Epoch 42/100\n",
      "8000/8000 [==============================] - 1s - loss: 0.3973 - acc: 0.8367     \n",
      "Epoch 43/100\n",
      "8000/8000 [==============================] - 1s - loss: 0.3969 - acc: 0.8351     \n",
      "Epoch 44/100\n",
      "8000/8000 [==============================] - 2s - loss: 0.3968 - acc: 0.8356     \n",
      "Epoch 45/100\n",
      "8000/8000 [==============================] - 3s - loss: 0.3963 - acc: 0.8347     \n",
      "Epoch 46/100\n",
      "8000/8000 [==============================] - 2s - loss: 0.3967 - acc: 0.8345     \n",
      "Epoch 47/100\n",
      "8000/8000 [==============================] - 1s - loss: 0.3957 - acc: 0.8334     \n",
      "Epoch 48/100\n",
      "8000/8000 [==============================] - 2s - loss: 0.3963 - acc: 0.8357     \n",
      "Epoch 49/100\n",
      "8000/8000 [==============================] - 2s - loss: 0.3961 - acc: 0.8362     \n",
      "Epoch 50/100\n",
      "8000/8000 [==============================] - 2s - loss: 0.3956 - acc: 0.8357     \n",
      "Epoch 51/100\n",
      "8000/8000 [==============================] - 2s - loss: 0.3955 - acc: 0.8359     \n",
      "Epoch 52/100\n",
      "8000/8000 [==============================] - 2s - loss: 0.3956 - acc: 0.8342     \n",
      "Epoch 53/100\n",
      "8000/8000 [==============================] - 2s - loss: 0.3949 - acc: 0.8367     \n",
      "Epoch 54/100\n",
      "8000/8000 [==============================] - 1s - loss: 0.3948 - acc: 0.8344     \n",
      "Epoch 55/100\n",
      "8000/8000 [==============================] - 1s - loss: 0.3947 - acc: 0.8351     \n",
      "Epoch 56/100\n",
      "8000/8000 [==============================] - 1s - loss: 0.3947 - acc: 0.8356     \n",
      "Epoch 57/100\n",
      "8000/8000 [==============================] - 1s - loss: 0.3945 - acc: 0.8361     \n",
      "Epoch 58/100\n",
      "8000/8000 [==============================] - 2s - loss: 0.3943 - acc: 0.8375     \n",
      "Epoch 59/100\n",
      "8000/8000 [==============================] - 2s - loss: 0.3946 - acc: 0.8350     \n",
      "Epoch 60/100\n",
      "8000/8000 [==============================] - 1s - loss: 0.3943 - acc: 0.8375     \n",
      "Epoch 61/100\n",
      "8000/8000 [==============================] - 2s - loss: 0.3944 - acc: 0.8365     \n",
      "Epoch 62/100\n",
      "8000/8000 [==============================] - 2s - loss: 0.3941 - acc: 0.8364     \n",
      "Epoch 63/100\n",
      "8000/8000 [==============================] - 2s - loss: 0.3937 - acc: 0.8375     \n",
      "Epoch 64/100\n",
      "8000/8000 [==============================] - 2s - loss: 0.3945 - acc: 0.8344     \n",
      "Epoch 65/100\n",
      "8000/8000 [==============================] - 2s - loss: 0.3938 - acc: 0.8350     \n",
      "Epoch 66/100\n",
      "8000/8000 [==============================] - 2s - loss: 0.3939 - acc: 0.8377     \n",
      "Epoch 67/100\n",
      "8000/8000 [==============================] - 2s - loss: 0.3938 - acc: 0.8364     \n",
      "Epoch 68/100\n",
      "8000/8000 [==============================] - 2s - loss: 0.3938 - acc: 0.8360     \n",
      "Epoch 69/100\n",
      "8000/8000 [==============================] - 2s - loss: 0.3934 - acc: 0.8366     \n",
      "Epoch 70/100\n",
      "8000/8000 [==============================] - 2s - loss: 0.3939 - acc: 0.8372     \n",
      "Epoch 71/100\n",
      "8000/8000 [==============================] - 2s - loss: 0.3936 - acc: 0.8357     \n",
      "Epoch 72/100\n",
      "8000/8000 [==============================] - 2s - loss: 0.3940 - acc: 0.8354     \n",
      "Epoch 73/100\n",
      "8000/8000 [==============================] - 2s - loss: 0.3939 - acc: 0.8359     \n",
      "Epoch 74/100\n",
      "8000/8000 [==============================] - 2s - loss: 0.3936 - acc: 0.8364     \n",
      "Epoch 75/100\n",
      "8000/8000 [==============================] - 3s - loss: 0.3932 - acc: 0.8361     \n",
      "Epoch 76/100\n",
      "8000/8000 [==============================] - 2s - loss: 0.3934 - acc: 0.8345     \n",
      "Epoch 77/100\n",
      "8000/8000 [==============================] - 2s - loss: 0.3937 - acc: 0.8367     \n",
      "Epoch 78/100\n",
      "8000/8000 [==============================] - 1s - loss: 0.3939 - acc: 0.8369     \n",
      "Epoch 79/100\n",
      "8000/8000 [==============================] - 2s - loss: 0.3936 - acc: 0.8364     \n",
      "Epoch 80/100\n",
      "8000/8000 [==============================] - 2s - loss: 0.3933 - acc: 0.8376     \n",
      "Epoch 81/100\n",
      "8000/8000 [==============================] - 1s - loss: 0.3931 - acc: 0.8367     \n",
      "Epoch 82/100\n",
      "8000/8000 [==============================] - 2s - loss: 0.3935 - acc: 0.8364     \n",
      "Epoch 83/100\n",
      "8000/8000 [==============================] - 2s - loss: 0.3933 - acc: 0.8374     \n",
      "Epoch 84/100\n",
      "8000/8000 [==============================] - 2s - loss: 0.3930 - acc: 0.8357     \n",
      "Epoch 85/100\n",
      "8000/8000 [==============================] - 2s - loss: 0.3934 - acc: 0.8355     \n",
      "Epoch 86/100\n",
      "8000/8000 [==============================] - 2s - loss: 0.3930 - acc: 0.8360     \n",
      "Epoch 87/100\n"
     ]
    },
    {
     "name": "stdout",
     "output_type": "stream",
     "text": [
      "8000/8000 [==============================] - 2s - loss: 0.3930 - acc: 0.8372     \n",
      "Epoch 88/100\n",
      "8000/8000 [==============================] - 1s - loss: 0.3939 - acc: 0.8362     \n",
      "Epoch 89/100\n",
      "8000/8000 [==============================] - 2s - loss: 0.3935 - acc: 0.8372     \n",
      "Epoch 90/100\n",
      "8000/8000 [==============================] - 2s - loss: 0.3930 - acc: 0.8372     \n",
      "Epoch 91/100\n",
      "8000/8000 [==============================] - 2s - loss: 0.3934 - acc: 0.8362     \n",
      "Epoch 92/100\n",
      "8000/8000 [==============================] - 2s - loss: 0.3923 - acc: 0.8374     \n",
      "Epoch 93/100\n",
      "8000/8000 [==============================] - 2s - loss: 0.3934 - acc: 0.8370     \n",
      "Epoch 94/100\n",
      "8000/8000 [==============================] - 2s - loss: 0.3929 - acc: 0.8352     \n",
      "Epoch 95/100\n",
      "8000/8000 [==============================] - 2s - loss: 0.3934 - acc: 0.8360     \n",
      "Epoch 96/100\n",
      "8000/8000 [==============================] - 2s - loss: 0.3935 - acc: 0.8370     \n",
      "Epoch 97/100\n",
      "8000/8000 [==============================] - 1s - loss: 0.3927 - acc: 0.8385     \n",
      "Epoch 98/100\n",
      "8000/8000 [==============================] - 2s - loss: 0.3932 - acc: 0.8376     \n",
      "Epoch 99/100\n",
      "8000/8000 [==============================] - 2s - loss: 0.3926 - acc: 0.8371     \n",
      "Epoch 100/100\n",
      "8000/8000 [==============================] - 2s - loss: 0.3926 - acc: 0.8381     \n"
     ]
    },
    {
     "data": {
      "text/plain": [
       "<keras.callbacks.History at 0x12424f8d0>"
      ]
     },
     "execution_count": 20,
     "metadata": {},
     "output_type": "execute_result"
    }
   ],
   "source": [
    "classifier.fit(X_train, y_train, batch_size=10, nb_epoch=100)"
   ]
  },
  {
   "cell_type": "markdown",
   "metadata": {},
   "source": [
    "### Predicting the Test set results"
   ]
  },
  {
   "cell_type": "code",
   "execution_count": 22,
   "metadata": {
    "collapsed": true
   },
   "outputs": [],
   "source": [
    "y_pred = classifier.predict(X_test)\n",
    "y_pred = (y_pred > 0.5)"
   ]
  },
  {
   "cell_type": "markdown",
   "metadata": {},
   "source": [
    "### Confusion Matrix"
   ]
  },
  {
   "cell_type": "code",
   "execution_count": 23,
   "metadata": {
    "collapsed": true
   },
   "outputs": [],
   "source": [
    "from sklearn.metrics import confusion_matrix"
   ]
  },
  {
   "cell_type": "code",
   "execution_count": 24,
   "metadata": {},
   "outputs": [
    {
     "name": "stdout",
     "output_type": "stream",
     "text": [
      "[[1548   47]\n",
      " [ 266  139]]\n"
     ]
    }
   ],
   "source": [
    "cm = confusion_matrix(y_test, y_pred)\n",
    "print(cm)"
   ]
  },
  {
   "cell_type": "markdown",
   "metadata": {},
   "source": [
    "### Classification Report"
   ]
  },
  {
   "cell_type": "code",
   "execution_count": 25,
   "metadata": {
    "collapsed": true
   },
   "outputs": [],
   "source": [
    "from sklearn.metrics import classification_report"
   ]
  },
  {
   "cell_type": "code",
   "execution_count": 26,
   "metadata": {},
   "outputs": [
    {
     "name": "stdout",
     "output_type": "stream",
     "text": [
      "             precision    recall  f1-score   support\n",
      "\n",
      "          0       0.85      0.97      0.91      1595\n",
      "          1       0.75      0.34      0.47       405\n",
      "\n",
      "avg / total       0.83      0.84      0.82      2000\n",
      "\n"
     ]
    }
   ],
   "source": [
    "print(classification_report(y_test, y_pred))"
   ]
  },
  {
   "cell_type": "markdown",
   "metadata": {},
   "source": [
    "### Accuracy"
   ]
  },
  {
   "cell_type": "code",
   "execution_count": 27,
   "metadata": {
    "collapsed": true
   },
   "outputs": [],
   "source": [
    "from sklearn.metrics import accuracy_score"
   ]
  },
  {
   "cell_type": "code",
   "execution_count": 28,
   "metadata": {},
   "outputs": [
    {
     "data": {
      "text/plain": [
       "0.8435"
      ]
     },
     "execution_count": 28,
     "metadata": {},
     "output_type": "execute_result"
    }
   ],
   "source": [
    "accuracy_score(y_test, y_pred)"
   ]
  }
 ],
 "metadata": {
  "kernelspec": {
   "display_name": "Python 3",
   "language": "python",
   "name": "python3"
  },
  "language_info": {
   "codemirror_mode": {
    "name": "ipython",
    "version": 3
   },
   "file_extension": ".py",
   "mimetype": "text/x-python",
   "name": "python",
   "nbconvert_exporter": "python",
   "pygments_lexer": "ipython3",
   "version": "3.6.4"
  }
 },
 "nbformat": 4,
 "nbformat_minor": 2
}
